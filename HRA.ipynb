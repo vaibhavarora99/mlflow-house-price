{
 "cells": [
  {
   "cell_type": "code",
   "execution_count": 1,
   "id": "8b87a89c",
   "metadata": {},
   "outputs": [],
   "source": [
    "import numpy as np\n",
    "import pandas as pd\n",
    "import seaborn as sns"
   ]
  },
  {
   "cell_type": "code",
   "execution_count": 4,
   "id": "07931cbc",
   "metadata": {},
   "outputs": [
    {
     "ename": "FileNotFoundError",
     "evalue": "[Errno 2] No such file or directory: 'HR_comma_sep.csv'",
     "output_type": "error",
     "traceback": [
      "\u001b[1;31m---------------------------------------------------------------------------\u001b[0m",
      "\u001b[1;31mFileNotFoundError\u001b[0m                         Traceback (most recent call last)",
      "\u001b[1;32m<ipython-input-4-6ccfc3f74dcd>\u001b[0m in \u001b[0;36m<module>\u001b[1;34m\u001b[0m\n\u001b[1;32m----> 1\u001b[1;33m \u001b[0mdf\u001b[0m \u001b[1;33m=\u001b[0m\u001b[0mpd\u001b[0m\u001b[1;33m.\u001b[0m\u001b[0mread_csv\u001b[0m\u001b[1;33m(\u001b[0m\u001b[1;34m'HR_comma_sep.csv'\u001b[0m\u001b[1;33m)\u001b[0m\u001b[1;33m\u001b[0m\u001b[1;33m\u001b[0m\u001b[0m\n\u001b[0m\u001b[0;32m      2\u001b[0m \u001b[1;33m\u001b[0m\u001b[0m\n\u001b[0;32m      3\u001b[0m \u001b[0mpd\u001b[0m\u001b[1;33m.\u001b[0m\u001b[0moptions\u001b[0m\u001b[1;33m.\u001b[0m\u001b[0mdisplay\u001b[0m\u001b[1;33m.\u001b[0m\u001b[0mmax_columns\u001b[0m \u001b[1;33m=\u001b[0m \u001b[1;32mNone\u001b[0m\u001b[1;33m\u001b[0m\u001b[1;33m\u001b[0m\u001b[0m\n",
      "\u001b[1;32m~\\anaconda3\\lib\\site-packages\\pandas\\io\\parsers.py\u001b[0m in \u001b[0;36mread_csv\u001b[1;34m(filepath_or_buffer, sep, delimiter, header, names, index_col, usecols, squeeze, prefix, mangle_dupe_cols, dtype, engine, converters, true_values, false_values, skipinitialspace, skiprows, skipfooter, nrows, na_values, keep_default_na, na_filter, verbose, skip_blank_lines, parse_dates, infer_datetime_format, keep_date_col, date_parser, dayfirst, cache_dates, iterator, chunksize, compression, thousands, decimal, lineterminator, quotechar, quoting, doublequote, escapechar, comment, encoding, dialect, error_bad_lines, warn_bad_lines, delim_whitespace, low_memory, memory_map, float_precision, storage_options)\u001b[0m\n\u001b[0;32m    608\u001b[0m     \u001b[0mkwds\u001b[0m\u001b[1;33m.\u001b[0m\u001b[0mupdate\u001b[0m\u001b[1;33m(\u001b[0m\u001b[0mkwds_defaults\u001b[0m\u001b[1;33m)\u001b[0m\u001b[1;33m\u001b[0m\u001b[1;33m\u001b[0m\u001b[0m\n\u001b[0;32m    609\u001b[0m \u001b[1;33m\u001b[0m\u001b[0m\n\u001b[1;32m--> 610\u001b[1;33m     \u001b[1;32mreturn\u001b[0m \u001b[0m_read\u001b[0m\u001b[1;33m(\u001b[0m\u001b[0mfilepath_or_buffer\u001b[0m\u001b[1;33m,\u001b[0m \u001b[0mkwds\u001b[0m\u001b[1;33m)\u001b[0m\u001b[1;33m\u001b[0m\u001b[1;33m\u001b[0m\u001b[0m\n\u001b[0m\u001b[0;32m    611\u001b[0m \u001b[1;33m\u001b[0m\u001b[0m\n\u001b[0;32m    612\u001b[0m \u001b[1;33m\u001b[0m\u001b[0m\n",
      "\u001b[1;32m~\\anaconda3\\lib\\site-packages\\pandas\\io\\parsers.py\u001b[0m in \u001b[0;36m_read\u001b[1;34m(filepath_or_buffer, kwds)\u001b[0m\n\u001b[0;32m    460\u001b[0m \u001b[1;33m\u001b[0m\u001b[0m\n\u001b[0;32m    461\u001b[0m     \u001b[1;31m# Create the parser.\u001b[0m\u001b[1;33m\u001b[0m\u001b[1;33m\u001b[0m\u001b[1;33m\u001b[0m\u001b[0m\n\u001b[1;32m--> 462\u001b[1;33m     \u001b[0mparser\u001b[0m \u001b[1;33m=\u001b[0m \u001b[0mTextFileReader\u001b[0m\u001b[1;33m(\u001b[0m\u001b[0mfilepath_or_buffer\u001b[0m\u001b[1;33m,\u001b[0m \u001b[1;33m**\u001b[0m\u001b[0mkwds\u001b[0m\u001b[1;33m)\u001b[0m\u001b[1;33m\u001b[0m\u001b[1;33m\u001b[0m\u001b[0m\n\u001b[0m\u001b[0;32m    463\u001b[0m \u001b[1;33m\u001b[0m\u001b[0m\n\u001b[0;32m    464\u001b[0m     \u001b[1;32mif\u001b[0m \u001b[0mchunksize\u001b[0m \u001b[1;32mor\u001b[0m \u001b[0miterator\u001b[0m\u001b[1;33m:\u001b[0m\u001b[1;33m\u001b[0m\u001b[1;33m\u001b[0m\u001b[0m\n",
      "\u001b[1;32m~\\anaconda3\\lib\\site-packages\\pandas\\io\\parsers.py\u001b[0m in \u001b[0;36m__init__\u001b[1;34m(self, f, engine, **kwds)\u001b[0m\n\u001b[0;32m    817\u001b[0m             \u001b[0mself\u001b[0m\u001b[1;33m.\u001b[0m\u001b[0moptions\u001b[0m\u001b[1;33m[\u001b[0m\u001b[1;34m\"has_index_names\"\u001b[0m\u001b[1;33m]\u001b[0m \u001b[1;33m=\u001b[0m \u001b[0mkwds\u001b[0m\u001b[1;33m[\u001b[0m\u001b[1;34m\"has_index_names\"\u001b[0m\u001b[1;33m]\u001b[0m\u001b[1;33m\u001b[0m\u001b[1;33m\u001b[0m\u001b[0m\n\u001b[0;32m    818\u001b[0m \u001b[1;33m\u001b[0m\u001b[0m\n\u001b[1;32m--> 819\u001b[1;33m         \u001b[0mself\u001b[0m\u001b[1;33m.\u001b[0m\u001b[0m_engine\u001b[0m \u001b[1;33m=\u001b[0m \u001b[0mself\u001b[0m\u001b[1;33m.\u001b[0m\u001b[0m_make_engine\u001b[0m\u001b[1;33m(\u001b[0m\u001b[0mself\u001b[0m\u001b[1;33m.\u001b[0m\u001b[0mengine\u001b[0m\u001b[1;33m)\u001b[0m\u001b[1;33m\u001b[0m\u001b[1;33m\u001b[0m\u001b[0m\n\u001b[0m\u001b[0;32m    820\u001b[0m \u001b[1;33m\u001b[0m\u001b[0m\n\u001b[0;32m    821\u001b[0m     \u001b[1;32mdef\u001b[0m \u001b[0mclose\u001b[0m\u001b[1;33m(\u001b[0m\u001b[0mself\u001b[0m\u001b[1;33m)\u001b[0m\u001b[1;33m:\u001b[0m\u001b[1;33m\u001b[0m\u001b[1;33m\u001b[0m\u001b[0m\n",
      "\u001b[1;32m~\\anaconda3\\lib\\site-packages\\pandas\\io\\parsers.py\u001b[0m in \u001b[0;36m_make_engine\u001b[1;34m(self, engine)\u001b[0m\n\u001b[0;32m   1048\u001b[0m             )\n\u001b[0;32m   1049\u001b[0m         \u001b[1;31m# error: Too many arguments for \"ParserBase\"\u001b[0m\u001b[1;33m\u001b[0m\u001b[1;33m\u001b[0m\u001b[1;33m\u001b[0m\u001b[0m\n\u001b[1;32m-> 1050\u001b[1;33m         \u001b[1;32mreturn\u001b[0m \u001b[0mmapping\u001b[0m\u001b[1;33m[\u001b[0m\u001b[0mengine\u001b[0m\u001b[1;33m]\u001b[0m\u001b[1;33m(\u001b[0m\u001b[0mself\u001b[0m\u001b[1;33m.\u001b[0m\u001b[0mf\u001b[0m\u001b[1;33m,\u001b[0m \u001b[1;33m**\u001b[0m\u001b[0mself\u001b[0m\u001b[1;33m.\u001b[0m\u001b[0moptions\u001b[0m\u001b[1;33m)\u001b[0m  \u001b[1;31m# type: ignore[call-arg]\u001b[0m\u001b[1;33m\u001b[0m\u001b[1;33m\u001b[0m\u001b[0m\n\u001b[0m\u001b[0;32m   1051\u001b[0m \u001b[1;33m\u001b[0m\u001b[0m\n\u001b[0;32m   1052\u001b[0m     \u001b[1;32mdef\u001b[0m \u001b[0m_failover_to_python\u001b[0m\u001b[1;33m(\u001b[0m\u001b[0mself\u001b[0m\u001b[1;33m)\u001b[0m\u001b[1;33m:\u001b[0m\u001b[1;33m\u001b[0m\u001b[1;33m\u001b[0m\u001b[0m\n",
      "\u001b[1;32m~\\anaconda3\\lib\\site-packages\\pandas\\io\\parsers.py\u001b[0m in \u001b[0;36m__init__\u001b[1;34m(self, src, **kwds)\u001b[0m\n\u001b[0;32m   1865\u001b[0m \u001b[1;33m\u001b[0m\u001b[0m\n\u001b[0;32m   1866\u001b[0m         \u001b[1;31m# open handles\u001b[0m\u001b[1;33m\u001b[0m\u001b[1;33m\u001b[0m\u001b[1;33m\u001b[0m\u001b[0m\n\u001b[1;32m-> 1867\u001b[1;33m         \u001b[0mself\u001b[0m\u001b[1;33m.\u001b[0m\u001b[0m_open_handles\u001b[0m\u001b[1;33m(\u001b[0m\u001b[0msrc\u001b[0m\u001b[1;33m,\u001b[0m \u001b[0mkwds\u001b[0m\u001b[1;33m)\u001b[0m\u001b[1;33m\u001b[0m\u001b[1;33m\u001b[0m\u001b[0m\n\u001b[0m\u001b[0;32m   1868\u001b[0m         \u001b[1;32massert\u001b[0m \u001b[0mself\u001b[0m\u001b[1;33m.\u001b[0m\u001b[0mhandles\u001b[0m \u001b[1;32mis\u001b[0m \u001b[1;32mnot\u001b[0m \u001b[1;32mNone\u001b[0m\u001b[1;33m\u001b[0m\u001b[1;33m\u001b[0m\u001b[0m\n\u001b[0;32m   1869\u001b[0m         \u001b[1;32mfor\u001b[0m \u001b[0mkey\u001b[0m \u001b[1;32min\u001b[0m \u001b[1;33m(\u001b[0m\u001b[1;34m\"storage_options\"\u001b[0m\u001b[1;33m,\u001b[0m \u001b[1;34m\"encoding\"\u001b[0m\u001b[1;33m,\u001b[0m \u001b[1;34m\"memory_map\"\u001b[0m\u001b[1;33m,\u001b[0m \u001b[1;34m\"compression\"\u001b[0m\u001b[1;33m)\u001b[0m\u001b[1;33m:\u001b[0m\u001b[1;33m\u001b[0m\u001b[1;33m\u001b[0m\u001b[0m\n",
      "\u001b[1;32m~\\anaconda3\\lib\\site-packages\\pandas\\io\\parsers.py\u001b[0m in \u001b[0;36m_open_handles\u001b[1;34m(self, src, kwds)\u001b[0m\n\u001b[0;32m   1360\u001b[0m         \u001b[0mLet\u001b[0m \u001b[0mthe\u001b[0m \u001b[0mreaders\u001b[0m \u001b[0mopen\u001b[0m \u001b[0mIOHanldes\u001b[0m \u001b[0mafter\u001b[0m \u001b[0mthey\u001b[0m \u001b[0mare\u001b[0m \u001b[0mdone\u001b[0m \u001b[1;32mwith\u001b[0m \u001b[0mtheir\u001b[0m \u001b[0mpotential\u001b[0m \u001b[0mraises\u001b[0m\u001b[1;33m.\u001b[0m\u001b[1;33m\u001b[0m\u001b[1;33m\u001b[0m\u001b[0m\n\u001b[0;32m   1361\u001b[0m         \"\"\"\n\u001b[1;32m-> 1362\u001b[1;33m         self.handles = get_handle(\n\u001b[0m\u001b[0;32m   1363\u001b[0m             \u001b[0msrc\u001b[0m\u001b[1;33m,\u001b[0m\u001b[1;33m\u001b[0m\u001b[1;33m\u001b[0m\u001b[0m\n\u001b[0;32m   1364\u001b[0m             \u001b[1;34m\"r\"\u001b[0m\u001b[1;33m,\u001b[0m\u001b[1;33m\u001b[0m\u001b[1;33m\u001b[0m\u001b[0m\n",
      "\u001b[1;32m~\\anaconda3\\lib\\site-packages\\pandas\\io\\common.py\u001b[0m in \u001b[0;36mget_handle\u001b[1;34m(path_or_buf, mode, encoding, compression, memory_map, is_text, errors, storage_options)\u001b[0m\n\u001b[0;32m    640\u001b[0m                 \u001b[0merrors\u001b[0m \u001b[1;33m=\u001b[0m \u001b[1;34m\"replace\"\u001b[0m\u001b[1;33m\u001b[0m\u001b[1;33m\u001b[0m\u001b[0m\n\u001b[0;32m    641\u001b[0m             \u001b[1;31m# Encoding\u001b[0m\u001b[1;33m\u001b[0m\u001b[1;33m\u001b[0m\u001b[1;33m\u001b[0m\u001b[0m\n\u001b[1;32m--> 642\u001b[1;33m             handle = open(\n\u001b[0m\u001b[0;32m    643\u001b[0m                 \u001b[0mhandle\u001b[0m\u001b[1;33m,\u001b[0m\u001b[1;33m\u001b[0m\u001b[1;33m\u001b[0m\u001b[0m\n\u001b[0;32m    644\u001b[0m                 \u001b[0mioargs\u001b[0m\u001b[1;33m.\u001b[0m\u001b[0mmode\u001b[0m\u001b[1;33m,\u001b[0m\u001b[1;33m\u001b[0m\u001b[1;33m\u001b[0m\u001b[0m\n",
      "\u001b[1;31mFileNotFoundError\u001b[0m: [Errno 2] No such file or directory: 'HR_comma_sep.csv'"
     ]
    }
   ],
   "source": [
    "df =pd.read_csv('HR_comma_sep.csv')\n",
    "\n",
    "pd.options.display.max_columns = None"
   ]
  },
  {
   "cell_type": "code",
   "execution_count": null,
   "id": "30de6f6d",
   "metadata": {},
   "outputs": [],
   "source": [
    "df.head()"
   ]
  },
  {
   "cell_type": "code",
   "execution_count": null,
   "id": "370a965b",
   "metadata": {},
   "outputs": [],
   "source": [
    "df.info()"
   ]
  },
  {
   "cell_type": "code",
   "execution_count": null,
   "id": "9a9aeeff",
   "metadata": {},
   "outputs": [],
   "source": [
    "df.sample(10)"
   ]
  },
  {
   "cell_type": "markdown",
   "id": "8cb9932c",
   "metadata": {},
   "source": [
    "Variables transformations\n",
    "To plot some statistical graphics and for better understanding, we make some transformations in the variables:\n",
    "\n",
    "sales: Rename to department\n",
    "salary: Convert the type of the variable from categorical to numerical."
   ]
  },
  {
   "cell_type": "code",
   "execution_count": null,
   "id": "2f4ae65e",
   "metadata": {},
   "outputs": [],
   "source": [
    "\n",
    "# RENAME column sale to department\n",
    "df.rename(columns={'sales': 'department'}, inplace = True)\n",
    "\n",
    "# Convert salary variable type to numeric\n",
    "df['salary'] = df['salary'].map({'low':1, 'medium':2, 'high':3})\n"
   ]
  },
  {
   "cell_type": "markdown",
   "id": "581c19d8",
   "metadata": {},
   "source": [
    "\n",
    "4. Descripitve Analysis\n",
    "The descripitve Analysis is used to simplify and summarize the mainly characteristics of the dataset. In other words, show what kind of information the dataset has. The Pandas method describe generates a descriptive statistics that summarize the central tendency, dispersion and shape of the dataset. By using this method in Human Resource dataset important insights is possible to see:\n",
    "\n",
    "That approximately 24% os the employees left the company.\n",
    "The satisfaction level is around 62% and performance is around 72%.\n",
    "Employees work in average on 4 projects with 200 hours worked per month."
   ]
  },
  {
   "cell_type": "code",
   "execution_count": null,
   "id": "b547ef34",
   "metadata": {},
   "outputs": [],
   "source": [
    "df.describe()"
   ]
  },
  {
   "cell_type": "markdown",
   "id": "cc915a75",
   "metadata": {},
   "source": [
    "### 4.1 How many employees works in each department?\n",
    "Depending on how many employees work in each department, you can learn more about the type of company segment."
   ]
  },
  {
   "cell_type": "code",
   "execution_count": null,
   "id": "3073ecde",
   "metadata": {},
   "outputs": [],
   "source": [
    "print(df['department'].value_counts())"
   ]
  },
  {
   "cell_type": "markdown",
   "id": "d3a5a76c",
   "metadata": {},
   "source": [
    "### 4.2 How many employees per salary range?\n",
    "The employees salary is divided in Low (1), Medium (2) and High (3), distributed as follows:"
   ]
  },
  {
   "cell_type": "code",
   "execution_count": null,
   "id": "fb938a08",
   "metadata": {},
   "outputs": [],
   "source": [
    "print(df['salary'].value_counts())"
   ]
  },
  {
   "cell_type": "markdown",
   "id": "37f48197",
   "metadata": {},
   "source": [
    "### how many employees per salary range and department?"
   ]
  },
  {
   "cell_type": "code",
   "execution_count": null,
   "id": "7ad0131e",
   "metadata": {},
   "outputs": [],
   "source": [
    "table = df.pivot_table(values=\"satisfaction_level\", index=\"department\", columns=\"salary\",aggfunc=np.count_nonzero)\n",
    "table"
   ]
  },
  {
   "cell_type": "code",
   "execution_count": null,
   "id": "636db317",
   "metadata": {},
   "outputs": [],
   "source": [
    "import matplotlib.pyplot as plt"
   ]
  },
  {
   "cell_type": "code",
   "execution_count": null,
   "id": "5400606f",
   "metadata": {},
   "outputs": [],
   "source": [
    "import seaborn as sns \n",
    "sns.set()"
   ]
  },
  {
   "cell_type": "code",
   "execution_count": null,
   "id": "264569fe",
   "metadata": {},
   "outputs": [],
   "source": [
    "f, axes = plt.subplots(2,2, figsize=(10,10), sharex=True)\n",
    "\n",
    "plt.subplots_adjust(wspace=0.5)# adjust the space between the plots\n",
    "\n",
    "sns.despine(left=True)\n",
    "\n",
    "# plot a boxplot of satisfaction_level to see if there is outliers\n",
    "sns.boxplot(x='satisfaction_level', y='salary' ,data=df ,orient='v',ax=axes[0,0])\n",
    "\n",
    "# plot a boxplot of last_evaluation to see if there is outliers\n",
    "sns.boxplot( x= 'last_evaluation', y='salary' , data=df ,orient='v',ax=axes[0,1])\n",
    "\n",
    "# plot a boxplot of number_project to see if there is outliers\n",
    "sns.boxplot( x= 'number_project', y='salary', data=df,orient='v', ax=axes[1,0])\n",
    "\n",
    "# plot a boxplot of average_montly_hours to see if there is outliers\n",
    "sns.boxplot( x= 'average_montly_hours',y='salary'  ,data=df, ax=axes[1,1]);\n",
    "\n",
    "#Put a ; at the end of the last line to suppress the printing of output "
   ]
  },
  {
   "cell_type": "code",
   "execution_count": null,
   "id": "da461cd6",
   "metadata": {},
   "outputs": [],
   "source": [
    "sns.boxplot('time_spend_company',  data=df, orient='v')"
   ]
  },
  {
   "cell_type": "code",
   "execution_count": null,
   "id": "7db7730e",
   "metadata": {},
   "outputs": [],
   "source": [
    "sns.boxplot(y='satisfaction_level',  data=df, orient='v')"
   ]
  },
  {
   "cell_type": "markdown",
   "id": "094dfb89",
   "metadata": {},
   "source": [
    "### 4.5 Correlation Analysis\n",
    "The correlation is a very useful statitiscal analysis that describes the degree of relationship between two variables. Let´s see the table below and the heat map to see what relationship are in the data.\n",
    "\n",
    "In the heat map is possible to see:\n",
    "\n",
    "Negative correlation of (-0.39) between satisfaction_level and the employees that left the company.\n",
    "The highest positive correlation is between number of projects and average monthly hours (0.42).\n",
    "Last_evaluation is high correlated to number_project(0.35)and average_monthly_hours(0.34).\n",
    "Work_accident have a low negative correlation(-0.15)and salary (-0.16) with employees that left."
   ]
  },
  {
   "cell_type": "code",
   "execution_count": null,
   "id": "ba6f26e2",
   "metadata": {},
   "outputs": [],
   "source": [
    "corr = df.corr()\n",
    "corr"
   ]
  },
  {
   "cell_type": "code",
   "execution_count": null,
   "id": "cdce9102",
   "metadata": {},
   "outputs": [],
   "source": [
    "sns.set(style='white')\n",
    "\n",
    "mask = np.zeros_like(corr, dtype=np.bool)\n",
    "\n",
    "mask[np.triu_indices_from(mask)] = True\n",
    "\n",
    "# Inserir a figura\n",
    "f, ax = plt.subplots(figsize=(13,8))\n",
    "\n",
    "cmap = sns.diverging_palette(10,220, as_cmap=True)\n",
    "\n",
    "#Desenhar o heatmap com a máscara\n",
    "ax = sns.heatmap(corr, mask=mask, cmap=cmap, vmax= .5, annot=True, annot_kws= {'size':11}, square=True, xticklabels=True, yticklabels=True, linewidths=.5, \n",
    "           cbar_kws={'shrink': .5}, ax=ax)\n",
    "ax.set_title('Correlation between variables', fontsize=20);"
   ]
  },
  {
   "cell_type": "markdown",
   "id": "106502ca",
   "metadata": {},
   "source": [
    "### 5. Hypothesis\n",
    "Now let's extract some more informations and testing some hypothesis"
   ]
  },
  {
   "cell_type": "markdown",
   "id": "c55e116b",
   "metadata": {},
   "source": [
    "### 5.1 How many employees left the company?"
   ]
  },
  {
   "cell_type": "code",
   "execution_count": null,
   "id": "c3a052c7",
   "metadata": {},
   "outputs": [],
   "source": [
    "print(df['left'].value_counts()[1],\"employees left the company\")"
   ]
  },
  {
   "cell_type": "code",
   "execution_count": null,
   "id": "aac052b5",
   "metadata": {},
   "outputs": [],
   "source": [
    "# The plot show the amount o employees that stayed and left the company.\n",
    "plt.figure(figsize=(4,5))\n",
    "ax = sns.countplot(df.left)\n",
    "total = float(len(df))\n",
    "for p in ax.patches:\n",
    "    height = p.get_height()\n",
    "    ax.text(p.get_x()+p.get_width()/2.,\n",
    "            height + 3,\n",
    "            '{:1.2f}'.format(height/total),\n",
    "            ha=\"center\") \n",
    "plt.title('Stayed or Left', fontsize=14);"
   ]
  },
  {
   "cell_type": "markdown",
   "id": "4d4121be",
   "metadata": {},
   "source": [
    "### First Hypothesis\n",
    "The first hypothesis is that salary is the reason why the employees left the company. Let's see if is this correct."
   ]
  },
  {
   "cell_type": "code",
   "execution_count": null,
   "id": "0af314c0",
   "metadata": {},
   "outputs": [],
   "source": [
    "j = sns.factorplot(x='salary', y='left', kind='bar', data=df)\n",
    "plt.title('Employees that left by salary level', fontsize=14)\n",
    "j.set_xticklabels(['High', 'Medium', 'Low']);"
   ]
  },
  {
   "cell_type": "markdown",
   "id": "a5a6d743",
   "metadata": {},
   "source": [
    "\n",
    "In the graphic Salaries by department is possible to see the distribuition of the salaries by department.\n",
    "\n",
    "Most of the employees of the sales department have low or medium salaries, this may be due that in some companies the sales commission is paid separately.\n",
    "Technical department is in the second place where most of the employees receives low and medium salaries."
   ]
  },
  {
   "cell_type": "code",
   "execution_count": null,
   "id": "1c5fbd6a",
   "metadata": {},
   "outputs": [],
   "source": [
    "h = sns.factorplot(x = 'salary', hue='department', kind ='count', size = 5,aspect=1.5, data=df, palette='Set1' )\n",
    "plt.title(\"Salaries by department\", fontsize=14)\n",
    "h.set_xticklabels(['High', 'Medium', 'Low']);"
   ]
  },
  {
   "cell_type": "markdown",
   "id": "7b9f683c",
   "metadata": {},
   "source": [
    "\n",
    "In the graphic(Salary Comparison):\n",
    "\n",
    "The manangement department has the biggest difference between the salary of the employees who stayed and those that left.\n",
    "It's not possible to see a huge difference in other departments.\n",
    "The first hypothesis looks very weak to be the main reason why the employees left the company."
   ]
  },
  {
   "cell_type": "code",
   "execution_count": null,
   "id": "913ed790",
   "metadata": {},
   "outputs": [],
   "source": [
    "sns.set()\n",
    "plt.figure(figsize=(10,5))\n",
    "sns.barplot(x='department', y='salary', hue='left', data=df)\n",
    "plt.title('Salary Comparison', fontsize=14);"
   ]
  },
  {
   "cell_type": "markdown",
   "id": "44d2c1d8",
   "metadata": {},
   "source": [
    "### Second Hypothesis\n",
    "It is a dangerous job?\n",
    "\n",
    "The second hypothesis is: employees leave the company because work is not safe."
   ]
  },
  {
   "cell_type": "code",
   "execution_count": null,
   "id": "d0f28968",
   "metadata": {},
   "outputs": [],
   "source": [
    "sns.factorplot(x='Work_accident', y='left', kind='bar', data=df)\n",
    "plt.title('Employees that had work accident', fontsize=14);"
   ]
  },
  {
   "cell_type": "markdown",
   "id": "2bf2a30f",
   "metadata": {},
   "source": [
    "\n",
    "About 14% of the employees had a work accident, although of the high number only of accidents only 169 employees data left the company had work a accident. Then this hypothesis is discarded."
   ]
  },
  {
   "cell_type": "code",
   "execution_count": null,
   "id": "b137f8f3",
   "metadata": {},
   "outputs": [],
   "source": [
    "\n",
    "print(df.Work_accident.sum())\n",
    "print(df.Work_accident.mean())\n",
    "print((df[df['left']==1]['Work_accident']).sum())"
   ]
  },
  {
   "cell_type": "markdown",
   "id": "3452cbcb",
   "metadata": {},
   "source": [
    "### Third Hypothesis\n",
    "Is this company a good place to grow professionally?"
   ]
  },
  {
   "cell_type": "code",
   "execution_count": null,
   "id": "2e1f0a68",
   "metadata": {},
   "outputs": [],
   "source": [
    "sns.factorplot(x='promotion_last_5years', y='left', kind='bar', data=df)\n",
    "plt.title('Employees who have been promoted in the last 5 years', fontsize=14);"
   ]
  },
  {
   "cell_type": "markdown",
   "id": "031c011c",
   "metadata": {},
   "source": [
    "\n",
    "In the last five years only 319 employees had promotion, this is equivalent to 2% of all employees. This may be a problem because if it is difficult to get promoted many employees become unmotivated and start looking for a new job."
   ]
  },
  {
   "cell_type": "code",
   "execution_count": null,
   "id": "6c12c6f0",
   "metadata": {},
   "outputs": [],
   "source": [
    "print(df.promotion_last_5years.sum())\n",
    "print(df.promotion_last_5years.mean())"
   ]
  },
  {
   "cell_type": "markdown",
   "id": "3b88e042",
   "metadata": {},
   "source": [
    "\n",
    "Years in the company\n",
    "\n",
    "In the graphic 'Years in the company' we can identify an important characteristic.\n",
    "\n",
    "Employees with 7 or more years didn't left, maybe because with the passing of the years they are more confortable and not so interested in look for a new challenge in other company.\n",
    "The problem starts when the employees have more than 3 years and get worst when they achieve 5 years.\n",
    "It is too early to say that the difficult to get promoted is the main reason for the leaving of the employees, but more research is needed."
   ]
  },
  {
   "cell_type": "code",
   "execution_count": null,
   "id": "fa1cd9cc",
   "metadata": {},
   "outputs": [],
   "source": [
    "\n",
    "plt.figure(figsize =(7,5))\n",
    "bins = np.linspace(1.0, 11,10)\n",
    "plt.hist(df[df['left']==1]['time_spend_company'], bins=bins, alpha=1, label='Employees Left')\n",
    "plt.hist(df[df['left']==0]['time_spend_company'], bins=bins, alpha = 0.5, label = 'Employee Stayed')\n",
    "plt.grid(axis='x')\n",
    "plt.xticks(np.arange(2,11))\n",
    "plt.xlabel('time_spend_company')\n",
    "plt.title('Years in the company', fontsize=14)\n",
    "plt.legend(loc='best');"
   ]
  },
  {
   "cell_type": "markdown",
   "id": "a1cecfac",
   "metadata": {},
   "source": [
    "Performance Analysis\n",
    "There are 2 distincts groups of employees. A group with poor performance and other with high performance employees. It's natural that employees that don't work well leave the company, but the main problem is that the high performance employees is leaving too and it's necessary to understand why."
   ]
  },
  {
   "cell_type": "code",
   "execution_count": null,
   "id": "3b992db9",
   "metadata": {},
   "outputs": [],
   "source": [
    "plt.figure(figsize =(7,7))\n",
    "bins = np.linspace(0.305, 1.0001, 14)\n",
    "plt.hist(df[df['left']==1]['last_evaluation'], bins=bins, alpha=1, label='Employees Left')\n",
    "plt.hist(df[df['left']==0]['last_evaluation'], bins=bins, alpha = 0.5, label = 'Employee Stayed')\n",
    "plt.title('Employees Performance', fontsize=14)\n",
    "plt.xlabel('last_evaluation')\n",
    "plt.legend(loc='best');"
   ]
  },
  {
   "cell_type": "markdown",
   "id": "b0da6e93",
   "metadata": {},
   "source": [
    "It is possible to see that 98% of employees with few projects that left also have poor performance.\n",
    "\n",
    "And 95% of the employees with 5 or more projects that left the company had the highest performance.\n",
    "\n",
    "3 or 4 are the best number of projects."
   ]
  },
  {
   "cell_type": "code",
   "execution_count": null,
   "id": "0172819b",
   "metadata": {},
   "outputs": [],
   "source": [
    "poor_performance_left = df[(df.last_evaluation <= 0.62) & (df.number_project == 2) & (df.left == 1)]\n",
    "print('poor_performance_left:',len(poor_performance_left))\n",
    "\n",
    "poor_performance_stayed = df[(df.last_evaluation > 0.62) & (df.number_project == 2) & (df.left == 1)]\n",
    "print('poor_performance_stayed:',len(poor_performance_stayed))\n",
    "\n",
    "print('\\n')\n",
    "\n",
    "high_performance_left= df[(df.last_evaluation <= 0.62) & (df.number_project >=5) & (df.left == 1)]\n",
    "high_performance_stayed= df[(df.last_evaluation > 0.8) & (df.number_project >=5) & (df.left == 0)]\n",
    "print('high_performance_left:',len(high_performance_left))\n",
    "print('high_performance_stayed', len(high_performance_stayed))\n",
    "\n",
    "plt.figure(figsize =(7,5))\n",
    "bins = np.linspace(1.5,7.5, 7)\n",
    "plt.hist(df[df['left']==1]['number_project'], bins=bins, alpha=1, label='Employees Left')\n",
    "plt.hist(df[df['left']==0]['number_project'], bins=bins, alpha = 0.5, label = 'Employee Stayed')\n",
    "plt.title('Number of projects', fontsize=14)\n",
    "plt.xlabel('number_ projects')\n",
    "plt.legend(loc='best');"
   ]
  },
  {
   "cell_type": "markdown",
   "id": "a6c1f059",
   "metadata": {},
   "source": [
    "Working hours\n",
    "Again, there are 2 groups of employees. A group that works fewer hours and another that works more hours compared to the average hours worked."
   ]
  },
  {
   "cell_type": "code",
   "execution_count": null,
   "id": "aea63c40",
   "metadata": {},
   "outputs": [],
   "source": [
    "plt.figure(figsize =(7,5))\n",
    "bins = np.linspace(80,315, 15)\n",
    "plt.hist(df[df['left']==1]['average_montly_hours'], bins=bins, alpha=1, label='Employees Left')\n",
    "plt.hist(df[df['left']==0]['average_montly_hours'], bins=bins, alpha = 0.5, label = 'Employee Stayed')\n",
    "plt.title('Working Hours', fontsize=14)\n",
    "plt.xlabel('average_montly_hours')\n",
    "plt.xlim((70,365))\n",
    "plt.legend(loc='best');"
   ]
  },
  {
   "cell_type": "markdown",
   "id": "d674d958",
   "metadata": {},
   "source": [
    "Clearly is possible to see that the employees with 6 projects or more, work on average 20% more hours."
   ]
  },
  {
   "cell_type": "code",
   "execution_count": null,
   "id": "b8f2ed36",
   "metadata": {},
   "outputs": [],
   "source": [
    "groupby_number_projects = df.groupby('number_project').mean()\n",
    "groupby_number_projects = groupby_number_projects['average_montly_hours']\n",
    "print(groupby_number_projects)\n",
    "plt.figure(figsize=(7,5))\n",
    "groupby_number_projects.plot();"
   ]
  },
  {
   "cell_type": "markdown",
   "id": "45e77005",
   "metadata": {},
   "source": [
    "With the information above the employees that left the company are grouped as:\n",
    "\n",
    "Employees with 2 projects and worked less than the average of the company.\n",
    "Employees with 5 or more projects that worked at least 20% more than the average."
   ]
  },
  {
   "cell_type": "code",
   "execution_count": null,
   "id": "a1149cd2",
   "metadata": {},
   "outputs": [],
   "source": [
    "work_less_hours_left = df[(df.average_montly_hours < 200) & (df.number_project == 2) & (df.left == 1)]\n",
    "print('work_less_hours_left:',len(work_less_hours_left))\n",
    "\n",
    "work_more_hours_left = df[(df.average_montly_hours > 240) & (df.number_project >=5 ) & (df.left == 1)]\n",
    "print('work_more_hours_left:',len(work_more_hours_left))\n",
    "\n",
    "#<p><font color=\"red\">Aqui você fala sobre a relação entre horas de trabalho e quantidade de projetos, mas isso não é exibido no gráfico</font></p>"
   ]
  },
  {
   "cell_type": "markdown",
   "id": "3cad9ac2",
   "metadata": {},
   "source": [
    "\n",
    "Satisfaction Level\n",
    "It is possible to see 3 interesting peaks in the satisfaction levels of the employees that left the company.\n",
    "\n",
    "We have a peak of employees who are totally disappointed.\n",
    "Another peak at 0.4, representing another group with the satisfaction level below the average.\n",
    "And another amount in the range 0.7 and 0.9, with employees that left, although the high satisfaction."
   ]
  },
  {
   "cell_type": "code",
   "execution_count": null,
   "id": "5469fb70",
   "metadata": {},
   "outputs": [],
   "source": [
    "plt.figure(figsize =(7,5))\n",
    "bins = np.linspace(0.006,1.000, 15)\n",
    "plt.hist(df[df['left']==1]['satisfaction_level'], bins=bins, alpha=1, label='Employees Left')\n",
    "plt.hist(df[df['left']==0]['satisfaction_level'], bins=bins, alpha = 0.5, label = 'Employee Stayed')\n",
    "plt.title('Employees Satisfaction', fontsize=14)\n",
    "plt.xlabel('satisfaction_level')\n",
    "plt.xlim((0,1.05))\n",
    "plt.legend(loc='best');"
   ]
  },
  {
   "cell_type": "markdown",
   "id": "8a7a08a2",
   "metadata": {},
   "source": [
    "### Average satisfaction for years in the company"
   ]
  },
  {
   "cell_type": "code",
   "execution_count": null,
   "id": "948820ec",
   "metadata": {},
   "outputs": [],
   "source": [
    "groupby_time_spend = df.groupby('time_spend_company').mean()\n",
    "groupby_time_spend['satisfaction_level']"
   ]
  },
  {
   "cell_type": "markdown",
   "id": "eda1adae",
   "metadata": {},
   "source": [
    "\n",
    "When the employees becames unsatisfied\n",
    "In next results it is clear the drop in satisfaction when employees are working on 6 or more projects."
   ]
  },
  {
   "cell_type": "code",
   "execution_count": null,
   "id": "5c4a1e49",
   "metadata": {},
   "outputs": [],
   "source": [
    "sns.set()\n",
    "sns.set_context(\"talk\")\n",
    "ax = sns.factorplot(x=\"number_project\", y=\"satisfaction_level\", col=\"time_spend_company\",col_wrap=4, size=3, color='blue',sharex=False, data=df)\n",
    "ax.set_xlabels('Number of Projects');"
   ]
  },
  {
   "cell_type": "markdown",
   "id": "496e6013",
   "metadata": {},
   "source": [
    "\n",
    "Let´s see why the most valuable employees tend to leave.\n",
    "\n",
    "From the employees that left with high performance, 4 or more years in the company and working on 5 or more project had:\n",
    "\n",
    "Low satisfaction level,\n",
    "Worked more hours,\n",
    "Haven´t been promoted in the last five years."
   ]
  },
  {
   "cell_type": "code",
   "execution_count": null,
   "id": "9a002bf9",
   "metadata": {},
   "outputs": [],
   "source": [
    "func_living = df[(df.last_evaluation >= 0.70) | (df.time_spend_company >=4) | (df.number_project >= 5)]\n",
    "\n",
    "corr2 = func_living.corr()\n",
    "\n",
    "sns.set(style='white')\n",
    "\n",
    "mask = np.zeros_like(corr2, dtype=np.bool)\n",
    "\n",
    "mask[np.triu_indices_from(mask)] = True\n",
    "\n",
    "# Insert the graphic\n",
    "f, ax = plt.subplots(figsize=(13,8))\n",
    "\n",
    "cmap = sns.diverging_palette(10,220, as_cmap=True)\n",
    "\n",
    "#Draw heat map mask\n",
    "ax = sns.heatmap(corr2, mask=mask, cmap=cmap, vmax= .5, annot=True, annot_kws= {'size':11}, square=True, xticklabels=True, yticklabels=True, linewidths=.5, \n",
    "           cbar_kws={'shrink': .5}, ax=ax)\n",
    "ax.set_title('Correlation: Why Valuable Employees Tend to Leave', fontsize=20);"
   ]
  },
  {
   "cell_type": "markdown",
   "id": "be020d5f",
   "metadata": {},
   "source": [
    "### Summary of the Exploratory Data Analysis\n",
    "It is a relatively young company, on average, employees have 3 or 4 years in the company and the oldest employees are working 10 years.\n",
    "The biggest difference in the salary from who stayed and those who left, was found in the managemnet department, in the others departments although the salaries of who stayed be higher in average, it is not a big difference.\n",
    "The number of employees that had a work accident is about 14%, of which only 169 employees left the company, so don't seem to have a correlation with the employees leaving.\n",
    "In five years only 2% of the employees were promoted. Is possible that many employees get unmotivated and start planning to leave.\n",
    "Employees with 7 or longer in the company didn't left. Employees with 5 years have more chances to leaving.\n",
    "There are 2 distincts groups of employees performance that left. A group with poor performance with 2 projects and others with high performance with 5 or more projects. It is not necessary retain all the employees, the focus is on keeping employees with high performance.\n",
    "The employees with 4 years in the company have the lowest average satisfaction level of all the company with (0.47).\n",
    "The satisfaction drops when the employees are working in 5 or more projects. A number of 3 or 4 projects seems to be ideal independent of the time spend in the company.\n",
    "The employees with 5 or more projects that left also worked at least 20% more hours than the average of the company.\n",
    "The satisfaction level of the employees that left is grouped in totally disappointed, below the average satisfaction and satisfied."
   ]
  },
  {
   "cell_type": "code",
   "execution_count": null,
   "id": "1d2c841f",
   "metadata": {},
   "outputs": [],
   "source": []
  }
 ],
 "metadata": {
  "kernelspec": {
   "display_name": "Python 3",
   "language": "python",
   "name": "python3"
  },
  "language_info": {
   "codemirror_mode": {
    "name": "ipython",
    "version": 3
   },
   "file_extension": ".py",
   "mimetype": "text/x-python",
   "name": "python",
   "nbconvert_exporter": "python",
   "pygments_lexer": "ipython3",
   "version": "3.8.8"
  }
 },
 "nbformat": 4,
 "nbformat_minor": 5
}
